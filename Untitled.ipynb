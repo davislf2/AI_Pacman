{
 "cells": [
  {
   "cell_type": "code",
   "execution_count": 2,
   "metadata": {
    "collapsed": true
   },
   "outputs": [],
   "source": [
    "# import autograder\n",
    "import capture\n",
    "import captureAgents\n",
    "import game\n",
    "import pacman\n",
    "import util\n",
    "import distanceCalculator\n",
    "import random, time, util, sys\n",
    "import random\n",
    "import math\n",
    "import hashlib\n",
    "import logging\n",
    "import argparse\n"
   ]
  },
  {
   "cell_type": "code",
   "execution_count": 3,
   "metadata": {
    "collapsed": true
   },
   "outputs": [],
   "source": [
    "def createTeam(firstIndex, secondIndex, isRed,\n",
    "  first = 'DefenseAgent', second = 'DefenseAgent'):\n",
    "# first = 'AttackAgent', second = 'DefenseAgent'):\n",
    "# first = 'AttackAgent', second = 'AttackAgent'):\n",
    "  return [eval(first)(firstIndex), eval(second)(secondIndex)]\n"
   ]
  },
  {
   "cell_type": "code",
   "execution_count": 4,
   "metadata": {
    "collapsed": false
   },
   "outputs": [
    {
     "name": "stdout",
     "output_type": "stream",
     "text": [
      "1\n",
      "1\n"
     ]
    }
   ],
   "source": [
    "def increment(n):\n",
    "    n = n + 1\n",
    "\n",
    "i = 1\n",
    "print i\n",
    "increment(i)\n",
    "print i"
   ]
  },
  {
   "cell_type": "code",
   "execution_count": 5,
   "metadata": {
    "collapsed": false
   },
   "outputs": [
    {
     "name": "stdout",
     "output_type": "stream",
     "text": [
      "[1]\n",
      "[1, 2]\n"
     ]
    }
   ],
   "source": [
    "def lengthen(n):\n",
    "    n.append(2)\n",
    "\n",
    "i = [1]\n",
    "print i # [1]\n",
    "lengthen(i)\n",
    "print i # [1,2]"
   ]
  },
  {
   "cell_type": "code",
   "execution_count": 6,
   "metadata": {
    "collapsed": false
   },
   "outputs": [
    {
     "name": "stdout",
     "output_type": "stream",
     "text": [
      "True\n",
      "abc\n"
     ]
    }
   ],
   "source": [
    "def foo():\n",
    "      return True,\"abc\"\n",
    "\n",
    "status,value = foo()\n",
    "print status\n",
    "print value"
   ]
  },
  {
   "cell_type": "code",
   "execution_count": 7,
   "metadata": {
    "collapsed": false
   },
   "outputs": [
    {
     "name": "stdout",
     "output_type": "stream",
     "text": [
      "1\n",
      "2\n"
     ]
    }
   ],
   "source": [
    "class Increment(object):\n",
    "      def __init__(self,count):\n",
    "          self.count = count\n",
    "\n",
    "      def increment(self):\n",
    "          self.count += 1\n",
    "\n",
    "i = Increment(1)\n",
    "print i.count # 1\n",
    "i.increment()\n",
    "print i.count # 2"
   ]
  },
  {
   "cell_type": "code",
   "execution_count": 11,
   "metadata": {
    "collapsed": false
   },
   "outputs": [
    {
     "name": "stdout",
     "output_type": "stream",
     "text": [
      "['John']\n",
      "['John', 'Frank']\n"
     ]
    }
   ],
   "source": [
    "# -*- coding: cp950 -*-\n",
    "\n",
    "class Names:\n",
    "\n",
    "   def __init__(self, data = []):\n",
    "#    def __init__(self, data): \n",
    "       # 建構方函使用預設引數值,\n",
    "       # 但 Python 直譯器讀取類別\n",
    "       # 定義時, 對預設引數值同樣\n",
    "       # 只會讀取一次.\n",
    "       self.data_list = data\n",
    "\n",
    "   def add(self, name):\n",
    "       self.data_list.append(name)\n",
    "\n",
    "   def show(self):\n",
    "       print self.data_list\n",
    "\n",
    "name1 = Names()\n",
    "name1.add(\"John\")\n",
    "name1.show()\n",
    "name2 = Names()\n",
    "name2.add(\"Frank\")\n",
    "name2.show() # name1 和 name2 都擁有相同的串列\n"
   ]
  },
  {
   "cell_type": "code",
   "execution_count": 14,
   "metadata": {
    "collapsed": false
   },
   "outputs": [
    {
     "name": "stdout",
     "output_type": "stream",
     "text": [
      "['aaa']\n"
     ]
    }
   ],
   "source": [
    "n1 = []\n",
    "n2 = n1 = []\n",
    "n1.append('aaa')\n",
    "print n2"
   ]
  },
  {
   "cell_type": "code",
   "execution_count": 15,
   "metadata": {
    "collapsed": false
   },
   "outputs": [
    {
     "name": "stdout",
     "output_type": "stream",
     "text": [
      "['John']\n",
      "['Frank']\n"
     ]
    }
   ],
   "source": [
    "# -*- coding: cp950 -*-\n",
    "\n",
    "class Names:\n",
    "\n",
    "   def __init__(self, data = None):\n",
    "       if data == None:\n",
    "          self.data_list = []\n",
    "       else:\n",
    "          self.data_list = data\n",
    "\n",
    "   def add(self, name):\n",
    "       self.data_list.append(name)\n",
    "\n",
    "   def show(self):\n",
    "       print self.data_list\n",
    "\n",
    "name1 = Names()\n",
    "name1.add(\"John\")\n",
    "name1.show()\n",
    "name2 = Names()\n",
    "name2.add(\"Frank\")\n",
    "name2.show()\n"
   ]
  },
  {
   "cell_type": "code",
   "execution_count": 16,
   "metadata": {
    "collapsed": false
   },
   "outputs": [
    {
     "name": "stdout",
     "output_type": "stream",
     "text": [
      "['John']\n",
      "['Frank']\n"
     ]
    }
   ],
   "source": [
    "# -*- coding: cp950 -*-\n",
    "\n",
    "class Names:\n",
    "\n",
    "   def __init__(self, data = []):\n",
    "       self.data_list = data[:]\n",
    "   def add(self, name):\n",
    "       self.data_list.append(name)\n",
    "\n",
    "   def show(self):\n",
    "       print self.data_list\n",
    "\n",
    "name1 = Names()\n",
    "name1.add(\"John\")\n",
    "name1.show()\n",
    "name2 = Names()\n",
    "name2.add(\"Frank\")\n",
    "name2.show()\n"
   ]
  },
  {
   "cell_type": "code",
   "execution_count": 17,
   "metadata": {
    "collapsed": true
   },
   "outputs": [],
   "source": [
    "class Node():\n",
    "  def __init__(self, mstate, parent=None):\n",
    "    self.visits=1\n",
    "    self.reward=0.0 \n",
    "    self.mstate=mstate\n",
    "    self.children=[]\n",
    "    self.parent=parent  \n",
    "  def add_child(self,child_mstate):\n",
    "    child=Node(child_mstate,self)\n",
    "    self.children.append(child)\n",
    "  def getState(self):\n",
    "    return self.mstate.deepCopy()\n",
    "  def update(self,reward):\n",
    "    self.reward+=reward\n",
    "    self.visits+=1\n",
    "#   def fully_expanded(self):\n",
    "#     # if len(self.children)==self.mstate.num_moves:\n",
    "#     actions = self.mstate.gameState.getLegalActions(self.mstate.index)\n",
    "#     actions.remove(Directions.STOP)\n",
    "#     availableActions = len(actions)\n",
    "#     print 'availableActions', availableActions\n",
    "#     print actions\n",
    "#     if len(self.children) == availableActions:  \n",
    "#       return True\n",
    "#     return False\n",
    "  def __repr__(self):\n",
    "    s=\"Node; children: %d; visits: %d; reward: %f\"%(len(self.children),self.visits,self.reward)\n",
    "    return s"
   ]
  },
  {
   "cell_type": "code",
   "execution_count": 18,
   "metadata": {
    "collapsed": true
   },
   "outputs": [],
   "source": [
    "class MState():\n",
    "    NUM_TURNS = 5\n",
    "    GOAL = 0\n",
    "    # MOVES=[2,-2,3,-3]\n",
    "    # MAX_VALUE= (5.0*(NUM_TURNS-1)*NUM_TURNS)/2\n",
    "    # num_moves=len(MOVES)\n",
    "    # def __init__(self, gameState, index, value=0, moves=[], turn=NUM_TURNS):\n",
    "    def __init__(self, gameState, index, value=0, move = None, fromMove = None, turn=NUM_TURNS):  \n",
    "        self.gameState=gameState\n",
    "        self.index=index\n",
    "        # print 'index:', index  # index = 2\n",
    "        self.value=value\n",
    "        self.turn=turn\n",
    "        # self.moves=moves\n",
    "        # self.moves.append(move)\n",
    "        # self.moveSeries=[]\n",
    "        self.move=move\n",
    "        self.fromMove=fromMove\n",
    "\n",
    "    def setMState(self, gameState, index):\n",
    "        self.gameState=gameState\n",
    "        self.index=index\n",
    "\n",
    "    def deepCopy( self ):\n",
    "        mstate = MState( self, self.gameState, self.index )\n",
    "        mstate.gameState = self.gameState\n",
    "        mstate.index = self.index\n",
    "        mstate.value = self.value\n",
    "        mstate.turn = self.turn\n",
    "        mstate.move = self.move\n",
    "        mstate.fromMove = self.fromMove\n",
    "\n",
    "        return mstate\n",
    "\n",
    "    def next_mstate(self):\n",
    "        # nextmove=random.choice([x*self.turn for x  in self.MOVES])\n",
    "        # next=State(self.value+nextmove, self.moves+[nextmove],self.turn-1)\n",
    "        # return next\n",
    "        print '|||||||next_mstate'\n",
    "        print '-------gameState', self.gameState.getAgentState(self.index).getPosition()\n",
    "        print '-------value', self.value\n",
    "\n",
    "        actions = self.gameState.getLegalActions(self.index)\n",
    "        # The agent should not stay STOP\n",
    "        actions.remove(Directions.STOP)\n",
    "\n",
    "        print '+++++Legal actions', actions\n",
    "        nextmove = random.choice([x for x in actions])\n",
    "        self.move = nextmove\n",
    "        # print 'nextmove', nextmove\n",
    "        # self.moveSeries.append(nextmove)    # not used here\n",
    "        # print 'self.moveSeries', self.moveSeries\n",
    "\n",
    "        # nextGameState = DefenseAgent(self.index, 0.1).generateSuccessor(self.gameState, nextmove)\n",
    "        nextGameState = self.gameState.generateSuccessor(self.index, nextmove)\n",
    "        # values = DefenseAgent(self.gameState).evaluate(self.gameState, nextmove)\n",
    "        nextValue = DefenseAgent(self.index, 0.1).evaluate(self.gameState, nextmove)\n",
    "        # print 'values', value\n",
    "        # self.value = self.value + nextValue\n",
    "        # print 'self.value', self.value\n",
    "\n",
    "        nextMState = MState(nextGameState, self.index, nextValue, nextmove, nextmove, self.turn-1)\n",
    "        # nextState = State(nextGameState, self.index, nextValue, self.moveSeries, self.turn-1)\n",
    "        # nextState = State(self.gameState, self.index, self.value, self.moveSeries, self.turn-1)\n",
    "        # self.turn = self.turn-1\n",
    "        # print 'next', next\n",
    "        print '-------self.move', self.move\n",
    "        print '-------nextGameState', nextGameState.getAgentState(self.index).getPosition()\n",
    "        # print '-------nextValue', nextValue\n",
    "        print '-------nextState', nextMState\n",
    "        # print '-------self.moveSeries', self.moveSeries\n",
    "\n",
    "        return nextMState\n",
    "\n",
    "      def terminal(self):\n",
    "        if self.turn == 0:\n",
    "          return True\n",
    "        return False\n",
    "      def reward(self):\n",
    "        # r = 1.0-(abs(self.value-self.GOAL)/self.MAX_VALUE)\n",
    "        r = self.value\n",
    "        return r\n",
    "      def __hash__(self):\n",
    "        # return int(hashlib.md5(str(self.moves)).hexdigest(),16)\n",
    "        return int(hashlib.md5(str(self.move)).hexdigest(),16)\n",
    "      def __eq__(self,other):\n",
    "        if hash(self)==hash(other):\n",
    "          return True\n",
    "        return False\n",
    "      def __repr__(self):\n",
    "        # s=\"Value: %d; Moves: %s\"%(self.value,self.moves)\n",
    "        s=\"Value: %d; Move: %s\"%(self.value,self.move)\n",
    "        return s"
   ]
  },
  {
   "cell_type": "code",
   "execution_count": 19,
   "metadata": {
    "collapsed": true
   },
   "outputs": [],
   "source": [
    "class Test:\n",
    "    def __init__(self, gameState):\n",
    "        self.levels=3\n",
    "        self.numSims=5\n",
    "        self.svalue=0 \n",
    "        self.smoves=[]\n",
    "        self.sturns=5\n",
    "        self.gameState = gameState\n",
    "        self.current_node = Node( MState(self.gameState, self.index, self.svalue, self.smoves, self.sturns) )\n",
    "        print 'self.current_node', self.current_node\n",
    "        # print 'Start location', self.current_node.state.gameState.getAgentState(self.index).getPosition()\n",
    "        self.startPosition = self.current_node.mstate.gameState.getAgentState(self.index).getPosition()\n",
    "        print 'Start location', self.startPosition\n",
    "        \n",
    "    def chooseAction(self, gameState):\n",
    "        return self.runSimulation(self.current_node, gameState, self.index, self.levels, self.numSims)\n",
    "\n",
    "    def runSimulation(self, current_node, gameState, index, levels=3, numSims=5):\n",
    "        \"\"\"\n",
    "        Finds the next successor which is a grid position (location tuple).\n",
    "        \"\"\"\n",
    "        # pause()\n",
    "        print 'runSim/////////////////////////////////////////////'\n",
    "        self.gameState = gameState\n",
    "        self.index = index\n",
    "        current_node.mstate.setMState(self.gameState, self.index)\n",
    "        self.current_node = current_node\n",
    "        print 'self.current_node', self.current_node\n",
    "        print 'Current Location', self.current_node.mstate.gameState.getAgentState(self.index).getPosition()\n",
    "        ### This location move!!\n",
    "        self.index = index\n",
    "        self.current_node.children = []\n",
    "        l = 0 \n",
    "        child_node=UCTSEARCH(numSims/(l+1), self.current_node, self.index)\n",
    "        print 'Child Location', child_node.mstate.gameState.getAgentState(self.index).getPosition()\n",
    "        print 'Child_node.mstate.fromMove', child_node.mstate.fromMove\n",
    "\n",
    "        return child_node.mstate.fromMove\n",
    "    def getSuccessor(self, gameState, action):\n",
    "        \"\"\"\n",
    "        Finds the next successor which is a grid position (location tuple).\n",
    "        \"\"\"\n",
    "        successor = gameState.generateSuccessor(self.index, action)\n",
    "        pos = successor.getAgentState(self.index).getPosition()\n",
    "        if pos != nearestPoint(pos):\n",
    "          # Only half a grid position was covered\n",
    "          return successor.generateSuccessor(self.index, action)\n",
    "        else:\n",
    "          return successor\n",
    "\n",
    "    def getFeatures(self, gameState, action):\n",
    "        features = util.Counter()\n",
    "        successor = self.getSuccessor(gameState, action)\n",
    "\n",
    "        myState = successor.getAgentState(self.index)\n",
    "        myPos = myState.getPosition()\n",
    "\n",
    "        # Computes whether we're on defense (1) or offense (0)\n",
    "        features['onDefense'] = 1\n",
    "        if myState.isPacman: features['onDefense'] = 0\n",
    "\n",
    "        # Computes distance to invaders we can see\n",
    "        enemies = [successor.getAgentState(i) for i in self.getOpponents(successor)]\n",
    "        # Invader = Enemy in the vision\n",
    "        invaders = [a for a in enemies if a.isPacman and a.getPosition() != None]\n",
    "        features['numInvaders'] = len(invaders)\n",
    "        if len(invaders) > 0:\n",
    "          dists = [distanceCalculator.Distancer(gameState.data.layout).getDistance(myPos, a.getPosition()) for a in invaders]\n",
    "          features['invaderDistance'] = min(dists)\n",
    "\n",
    "        if action == Directions.STOP: features['stop'] = 1\n",
    "        rev = Directions.REVERSE[gameState.getAgentState(self.index).configuration.direction]\n",
    "        if action == rev: features['reverse'] = 1  \n",
    "            \n",
    "        print 'myPos', myPos\n",
    "        startPos = gameState.getInitialAgentPosition(self.index)\n",
    "        # startPos = (1.0, 1.0)\n",
    "        print 'startPos', startPos\n",
    "        if len(invaders) > 0:\n",
    "          features['distToHome'] = 0\n",
    "        else:\n",
    "          # features['distToHome'] = self.getMazeDistance(self.startPosition,myPos)\n",
    "          # features['distToHome'] = self.getMazeDistance(startPos, myPos)\n",
    "          features['distToHome'] = distanceCalculator.Distancer(gameState.data.layout).getDistance(startPos, myPos)\n",
    "          # features['distToHome'] = self.getMazeDistance(self.start, myPos)\n",
    "\n",
    "        return features\n",
    "\n",
    "    def getWeights(self, gameState, action):\n",
    "        return {'numInvaders': -1000, 'onDefense': 100, 'invaderDistance': -10, 'stop': -100, 'reverse': -2, 'distToHome': 10}\n",
    "        # return {'numInvaders': -1000, 'onDefense': 100, 'invaderDistance': -10, 'stop': -100, 'reverse': -2, 'distToHome': 3}\n"
   ]
  },
  {
   "cell_type": "code",
   "execution_count": 20,
   "metadata": {
    "collapsed": false
   },
   "outputs": [
    {
     "ename": "NameError",
     "evalue": "name 'GameState' is not defined",
     "output_type": "error",
     "traceback": [
      "\u001b[0;31m---------------------------------------------------------------------------\u001b[0m",
      "\u001b[0;31mNameError\u001b[0m                                 Traceback (most recent call last)",
      "\u001b[0;32m<ipython-input-20-6b15a1c7ac22>\u001b[0m in \u001b[0;36m<module>\u001b[0;34m()\u001b[0m\n\u001b[0;32m----> 1\u001b[0;31m \u001b[0mgameState\u001b[0m \u001b[0;34m=\u001b[0m \u001b[0mGameState\u001b[0m\u001b[0;34m(\u001b[0m\u001b[0;34m)\u001b[0m\u001b[0;34m\u001b[0m\u001b[0m\n\u001b[0m\u001b[1;32m      2\u001b[0m \u001b[0mTest\u001b[0m\u001b[0;34m(\u001b[0m\u001b[0mgameState\u001b[0m\u001b[0;34m)\u001b[0m\u001b[0;34m\u001b[0m\u001b[0m\n",
      "\u001b[0;31mNameError\u001b[0m: name 'GameState' is not defined"
     ]
    }
   ],
   "source": [
    "gameState = GameState()\n",
    "Test(gameState)"
   ]
  },
  {
   "cell_type": "code",
   "execution_count": 23,
   "metadata": {
    "collapsed": false
   },
   "outputs": [
    {
     "data": {
      "text/plain": [
       "0"
      ]
     },
     "execution_count": 23,
     "metadata": {},
     "output_type": "execute_result"
    }
   ],
   "source": [
    "4%2"
   ]
  },
  {
   "cell_type": "code",
   "execution_count": null,
   "metadata": {
    "collapsed": true
   },
   "outputs": [],
   "source": []
  }
 ],
 "metadata": {
  "kernelspec": {
   "display_name": "Python [py27]",
   "language": "python",
   "name": "Python [py27]"
  },
  "language_info": {
   "codemirror_mode": {
    "name": "ipython",
    "version": 2
   },
   "file_extension": ".py",
   "mimetype": "text/x-python",
   "name": "python",
   "nbconvert_exporter": "python",
   "pygments_lexer": "ipython2",
   "version": "2.7.13"
  }
 },
 "nbformat": 4,
 "nbformat_minor": 2
}
