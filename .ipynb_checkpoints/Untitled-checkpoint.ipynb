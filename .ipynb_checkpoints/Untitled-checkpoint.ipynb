{
 "cells": [
  {
   "cell_type": "code",
   "execution_count": 2,
   "metadata": {
    "collapsed": true
   },
   "outputs": [],
   "source": [
    "# import autograder\n",
    "import capture\n",
    "import captureAgents\n",
    "import game\n",
    "import pacman\n",
    "import util\n",
    "import distanceCalculator\n",
    "import random, time, util, sys\n",
    "import random\n",
    "import math\n",
    "import hashlib\n",
    "import logging\n",
    "import argparse\n"
   ]
  },
  {
   "cell_type": "code",
   "execution_count": 3,
   "metadata": {
    "collapsed": true
   },
   "outputs": [],
   "source": [
    "def createTeam(firstIndex, secondIndex, isRed,\n",
    "  first = 'DefenseAgent', second = 'DefenseAgent'):\n",
    "# first = 'AttackAgent', second = 'DefenseAgent'):\n",
    "# first = 'AttackAgent', second = 'AttackAgent'):\n",
    "  return [eval(first)(firstIndex), eval(second)(secondIndex)]\n"
   ]
  },
  {
   "cell_type": "code",
   "execution_count": 4,
   "metadata": {
    "collapsed": false
   },
   "outputs": [
    {
     "name": "stdout",
     "output_type": "stream",
     "text": [
      "1\n",
      "1\n"
     ]
    }
   ],
   "source": [
    "def increment(n):\n",
    "    n = n + 1\n",
    "\n",
    "i = 1\n",
    "print i\n",
    "increment(i)\n",
    "print i"
   ]
  },
  {
   "cell_type": "code",
   "execution_count": 5,
   "metadata": {
    "collapsed": false
   },
   "outputs": [
    {
     "name": "stdout",
     "output_type": "stream",
     "text": [
      "[1]\n",
      "[1, 2]\n"
     ]
    }
   ],
   "source": [
    "def lengthen(n):\n",
    "    n.append(2)\n",
    "\n",
    "i = [1]\n",
    "print i # [1]\n",
    "lengthen(i)\n",
    "print i # [1,2]"
   ]
  },
  {
   "cell_type": "code",
   "execution_count": 6,
   "metadata": {
    "collapsed": false
   },
   "outputs": [
    {
     "name": "stdout",
     "output_type": "stream",
     "text": [
      "True\n",
      "abc\n"
     ]
    }
   ],
   "source": [
    "def foo():\n",
    "      return True,\"abc\"\n",
    "\n",
    "status,value = foo()\n",
    "print status\n",
    "print value"
   ]
  },
  {
   "cell_type": "code",
   "execution_count": 7,
   "metadata": {
    "collapsed": false
   },
   "outputs": [
    {
     "name": "stdout",
     "output_type": "stream",
     "text": [
      "1\n",
      "2\n"
     ]
    }
   ],
   "source": [
    "class Increment(object):\n",
    "      def __init__(self,count):\n",
    "          self.count = count\n",
    "\n",
    "      def increment(self):\n",
    "          self.count += 1\n",
    "\n",
    "i = Increment(1)\n",
    "print i.count # 1\n",
    "i.increment()\n",
    "print i.count # 2"
   ]
  },
  {
   "cell_type": "code",
   "execution_count": 10,
   "metadata": {
    "collapsed": false
   },
   "outputs": [
    {
     "ename": "TypeError",
     "evalue": "__init__() takes exactly 2 arguments (1 given)",
     "output_type": "error",
     "traceback": [
      "\u001b[0;31m---------------------------------------------------------------------------\u001b[0m",
      "\u001b[0;31mTypeError\u001b[0m                                 Traceback (most recent call last)",
      "\u001b[0;32m<ipython-input-10-fb7e503d4cf7>\u001b[0m in \u001b[0;36m<module>\u001b[0;34m()\u001b[0m\n\u001b[1;32m     17\u001b[0m        \u001b[0;32mprint\u001b[0m \u001b[0mself\u001b[0m\u001b[0;34m.\u001b[0m\u001b[0mdata_list\u001b[0m\u001b[0;34m\u001b[0m\u001b[0m\n\u001b[1;32m     18\u001b[0m \u001b[0;34m\u001b[0m\u001b[0m\n\u001b[0;32m---> 19\u001b[0;31m \u001b[0mname1\u001b[0m \u001b[0;34m=\u001b[0m \u001b[0mNames\u001b[0m\u001b[0;34m(\u001b[0m\u001b[0;34m)\u001b[0m\u001b[0;34m\u001b[0m\u001b[0m\n\u001b[0m\u001b[1;32m     20\u001b[0m \u001b[0mname1\u001b[0m\u001b[0;34m.\u001b[0m\u001b[0madd\u001b[0m\u001b[0;34m(\u001b[0m\u001b[0;34m\"John\"\u001b[0m\u001b[0;34m)\u001b[0m\u001b[0;34m\u001b[0m\u001b[0m\n\u001b[1;32m     21\u001b[0m \u001b[0mname1\u001b[0m\u001b[0;34m.\u001b[0m\u001b[0mshow\u001b[0m\u001b[0;34m(\u001b[0m\u001b[0;34m)\u001b[0m\u001b[0;34m\u001b[0m\u001b[0m\n",
      "\u001b[0;31mTypeError\u001b[0m: __init__() takes exactly 2 arguments (1 given)"
     ]
    }
   ],
   "source": [
    "# -*- coding: cp950 -*-\n",
    "\n",
    "class Names:\n",
    "\n",
    "   def __init__(self, data = []):\n",
    "#    def __init__(self, data): \n",
    "       # 建構方函使用預設引數值,\n",
    "       # 但 Python 直譯器讀取類別\n",
    "       # 定義時, 對預設引數值同樣\n",
    "       # 只會讀取一次.\n",
    "       self.data_list = data\n",
    "\n",
    "   def add(self, name):\n",
    "       self.data_list.append(name)\n",
    "\n",
    "   def show(self):\n",
    "       print self.data_list\n",
    "\n",
    "name1 = Names()\n",
    "name1.add(\"John\")\n",
    "name1.show()\n",
    "name2 = Names()\n",
    "name2.add(\"Frank\")\n",
    "name2.show() # name1 和 name2 都擁有相同的串列\n"
   ]
  },
  {
   "cell_type": "code",
   "execution_count": null,
   "metadata": {
    "collapsed": true
   },
   "outputs": [],
   "source": []
  }
 ],
 "metadata": {
  "kernelspec": {
   "display_name": "Python [py27]",
   "language": "python",
   "name": "Python [py27]"
  },
  "language_info": {
   "codemirror_mode": {
    "name": "ipython",
    "version": 2
   },
   "file_extension": ".py",
   "mimetype": "text/x-python",
   "name": "python",
   "nbconvert_exporter": "python",
   "pygments_lexer": "ipython2",
   "version": "2.7.13"
  }
 },
 "nbformat": 4,
 "nbformat_minor": 2
}
